{
 "cells": [
  {
   "cell_type": "code",
   "execution_count": null,
   "id": "ef983bbe-a3b1-4c83-a3f6-655e475acec9",
   "metadata": {},
   "outputs": [],
   "source": [
    "import numpy as np\n",
    "import matplotlib.pyplot as plt\n",
    "import pandas as pd\n",
    "%matplotlib ipympl"
   ]
  },
  {
   "cell_type": "code",
   "execution_count": null,
   "id": "d329b098-3a2c-4e2c-a3b9-f3cbe6af7f47",
   "metadata": {},
   "outputs": [],
   "source": [
    "%store -r"
   ]
  },
  {
   "cell_type": "code",
   "execution_count": null,
   "id": "cd60fff2-92f5-4c20-85b8-da40568b10a8",
   "metadata": {},
   "outputs": [],
   "source": [
    "# Define all rows to exclude as NaN\n",
    "for i in range (len(raw_data.index)):\n",
    "    if raw_data.index[i] in rows_to_remove_val:\n",
    "        raw_data.loc[raw_data.index[i]] = np.nan"
   ]
  },
  {
   "cell_type": "code",
   "execution_count": null,
   "id": "c0e42776-6ee2-4245-8e94-34cc9dca2277",
   "metadata": {},
   "outputs": [],
   "source": [
    "# Calculate the baseline for each row (mean of given range)\n",
    "baseline_only_table = raw_data[raw_data.columns[baseline_start_val : baseline_end_val]]\n",
    "baseline_mean = baseline_only_table.mean(axis=1)\n",
    "# display(baseline_mean)\n",
    "\n",
    "# Subtract each baseline value from relevant row\n",
    "bsl_subtracted_data = raw_data.sub(baseline_mean, axis=0)\n",
    "# display(bsl_subtracted_data)"
   ]
  },
  {
   "cell_type": "code",
   "execution_count": null,
   "id": "b9d32a15-09f6-4146-b4ef-b268d1e29f48",
   "metadata": {},
   "outputs": [],
   "source": [
    "# Find max value in given normalization range\n",
    "normalization_range_only = bsl_subtracted_data[bsl_subtracted_data.columns[range_ofMax_start_val : range_ofMax_end_val]]\n",
    "# display(normalization_range_only)\n",
    "max_values = normalization_range_only.max(axis=1)\n",
    "# display(max_values)\n",
    "\n",
    "# Divide each row by relevant max value\n",
    "normalized_data = bsl_subtracted_data.div(max_values, axis=0)\n",
    "# display(normalized_data)"
   ]
  },
  {
   "cell_type": "code",
   "execution_count": null,
   "id": "510ba407-1f52-4a09-8095-82faeae09734",
   "metadata": {},
   "outputs": [],
   "source": [
    "plt.ioff()\n",
    "\n",
    "rows = 6\n",
    "cols = 12\n",
    "fig, axes = plt.subplots(rows, cols, figsize=(60, 30))\n",
    "for i in range(rows):\n",
    "        for j in range(cols):\n",
    "            # Calculate the index of the current graph in the matrix\n",
    "            graph_index = i + j * rows\n",
    "            if graph_index < len(raw_data.index):\n",
    "                \n",
    "                # Extract the data and create the corresponding x-axis values\n",
    "                y_values = normalized_data.iloc[graph_index]\n",
    "                x_values = normalized_data.columns\n",
    "                \n",
    "                # Plot the data on the current subplot\n",
    "                axes[i, j].plot(x_values, y_values)\n",
    "                axes[i,j].set_xticks([])\n",
    "                axes[i,j].set_title(normalized_data.index[graph_index])\n",
    "\n",
    "fig.tight_layout()\n",
    "plt.savefig('normalized.pdf')\n"
   ]
  },
  {
   "cell_type": "code",
   "execution_count": null,
   "id": "fc14197e-c6de-4442-ad9d-ef6e1d364293",
   "metadata": {},
   "outputs": [],
   "source": [
    "\n",
    "sample_title = []\n",
    "average_data = pd.DataFrame(columns=normalized_data.columns)\n",
    "if rep_value == 2 or 3:\n",
    "   for i in range (0,len(normalized_data.index),rep_value):\n",
    "       \n",
    "       average = pd.Series(normalized_data.iloc[i : i+rep_value].mean()).T\n",
    "       average_data.loc[i/3] = average\n",
    "       sample_title.append(f'{normalized_data.index[i]} to {normalized_data.index[i+rep_value -1]}')\n",
    "       \n",
    "\n",
    "average_data.index = sample_title\n",
    "\n",
    "average_data.to_excel(\"Average_data.xlsx\")\n",
    "# display(average_data)"
   ]
  },
  {
   "cell_type": "code",
   "execution_count": null,
   "id": "251608fa-df1e-4cb7-baef-41da9ff38045",
   "metadata": {},
   "outputs": [],
   "source": [
    "plt.ion()\n",
    "\n",
    "rows = 3\n",
    "cols = 8\n",
    "fig, axes = plt.subplots(rows, cols,figsize=(50, 15))\n",
    "for i in range(rows):\n",
    "        for j in range(cols):\n",
    "            # Calculate the index of the current graph in the matrix\n",
    "            graph_index = i + j * rows\n",
    "            if graph_index < len(average_data.index):\n",
    "                \n",
    "                # Extract the data and create the corresponding x-axis values\n",
    "                y_values = average_data.iloc[graph_index]\n",
    "                x_values = average_data.columns\n",
    "                \n",
    "                # Plot the data on the current subplot\n",
    "                axes[i, j].plot(x_values, y_values)\n",
    "                axes[i,j].set_title(f'{average_data.index[graph_index]}')\n",
    "                axes[i,j].set_xticks(np.arange(0, len(x_values)+1, 20))\n",
    "fig.tight_layout()\n",
    "plt.savefig('Average_plots.pdf')\n",
    "\n"
   ]
  },
  {
   "cell_type": "code",
   "execution_count": null,
   "id": "1e9e8222-a1a7-433c-af2e-26bbdb3d57a2",
   "metadata": {},
   "outputs": [],
   "source": []
  }
 ],
 "metadata": {
  "kernelspec": {
   "display_name": "Python 3 (ipykernel)",
   "language": "python",
   "name": "python3"
  },
  "language_info": {
   "codemirror_mode": {
    "name": "ipython",
    "version": 3
   },
   "file_extension": ".py",
   "mimetype": "text/x-python",
   "name": "python",
   "nbconvert_exporter": "python",
   "pygments_lexer": "ipython3",
   "version": "3.12.1"
  }
 },
 "nbformat": 4,
 "nbformat_minor": 5
}
